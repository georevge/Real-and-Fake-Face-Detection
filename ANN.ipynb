{
  "nbformat": 4,
  "nbformat_minor": 0,
  "metadata": {
    "colab": {
      "provenance": [],
      "authorship_tag": "ABX9TyPhqCIsBfMGWohuGoIr7m3X",
      "include_colab_link": true
    },
    "kernelspec": {
      "display_name": "Python 3",
      "name": "python3"
    }
  },
  "cells": [
    {
      "cell_type": "markdown",
      "metadata": {
        "id": "view-in-github",
        "colab_type": "text"
      },
      "source": [
        "<a href=\"https://colab.research.google.com/github/georevge/Real_Fake_face/blob/main/ANN.ipynb\" target=\"_parent\"><img src=\"https://colab.research.google.com/assets/colab-badge.svg\" alt=\"Open In Colab\"/></a>"
      ]
    },
    {
      "cell_type": "markdown",
      "metadata": {
        "id": "-aJOzSXpMEja"
      },
      "source": [
        "ANN"
      ]
    },
    {
      "cell_type": "code",
      "metadata": {
        "colab": {
          "base_uri": "https://localhost:8080/"
        },
        "id": "EGKBJSNsFSdj",
        "outputId": "9bdbd12e-6ff1-4a6f-b794-1b1d7931bcdb"
      },
      "source": [
        "from google.colab import drive\n",
        "drive.mount('/content/drive')"
      ],
      "execution_count": null,
      "outputs": [
        {
          "output_type": "stream",
          "text": [
            "Drive already mounted at /content/drive; to attempt to forcibly remount, call drive.mount(\"/content/drive\", force_remount=True).\n"
          ],
          "name": "stdout"
        }
      ]
    },
    {
      "cell_type": "code",
      "metadata": {
        "id": "VJGGZ558FmiD"
      },
      "source": [
        "import os\n",
        "base_dir = '/content/drive/MyDrive/real_and_fake_face/'\n",
        "train_dir = os.path.join(base_dir, 'training')\n",
        "val_dir = os.path.join(base_dir, 'validation')"
      ],
      "execution_count": null,
      "outputs": []
    },
    {
      "cell_type": "code",
      "metadata": {
        "id": "h_DUe2vF3V0-"
      },
      "source": [
        "import numpy as np\n",
        "from keras.models import Sequential\n",
        "from keras.layers import Dense, Activation ,Dropout\n",
        "from keras.optimizers import Adam\n",
        "from keras.metrics import categorical_crossentropy\n",
        "\n",
        "\n",
        "from sklearn.preprocessing import MinMaxScaler\n",
        "from keras.layers import BatchNormalization\n",
        "from keras.preprocessing.image import ImageDataGenerator\n",
        "\n",
        "\n",
        "import cv2"
      ],
      "execution_count": null,
      "outputs": []
    },
    {
      "cell_type": "code",
      "metadata": {
        "id": "9DxFq5cQ8wlh"
      },
      "source": [
        "val_folder=[val_dir+'/fake',val_dir+'/real']\n",
        "train_folder=[train_dir+'/fake',train_dir+'/real']\n",
        "\n",
        "def get_data(folders):\n",
        "            images = []\n",
        "            for folder in folders:\n",
        "              for filename in os.listdir(folder):\n",
        "                  img = cv2.imread(os.path.join(folder,filename))\n",
        "                  res_img = cv2.resize(img, dsize=(150, 150), interpolation=cv2.INTER_CUBIC)\n",
        "                  norm = cv2.normalize(res_img, None, alpha=-1, beta=1, norm_type=cv2.NORM_MINMAX, dtype=cv2.CV_32F)#res_img\n",
        "                  if img is not None:\n",
        "                    images.append(norm)#norm\n",
        "            return images"
      ],
      "execution_count": null,
      "outputs": []
    },
    {
      "cell_type": "code",
      "metadata": {
        "colab": {
          "base_uri": "https://localhost:8080/"
        },
        "id": "-9A-eEtt5cUb",
        "outputId": "b31c955a-c8c5-4db2-eaa8-b9f48e0d65ce"
      },
      "source": [
        "from keras.layers.advanced_activations import LeakyReLU\n",
        "model = Sequential()\n",
        "\n",
        "model.add(Dense(256,input_shape=(67500,),activation='relu'))\n",
        "#model.add(BatchNormalization())\n",
        "\n",
        "model.add(Dense(1024))\n",
        "model.add(LeakyReLU(alpha=0.1))\n",
        "#model.add(BatchNormalization())\n",
        "\n",
        "model.add(Dense(64,activation='relu'))\n",
        "#model.add(BatchNormalization())\n",
        "\n",
        "model.add(Dense(2, activation='softmax'))\n",
        "\n",
        "model.summary()"
      ],
      "execution_count": null,
      "outputs": [
        {
          "output_type": "stream",
          "text": [
            "Model: \"sequential_29\"\n",
            "_________________________________________________________________\n",
            "Layer (type)                 Output Shape              Param #   \n",
            "=================================================================\n",
            "dense_97 (Dense)             (None, 256)               17280256  \n",
            "_________________________________________________________________\n",
            "dense_98 (Dense)             (None, 1024)              263168    \n",
            "_________________________________________________________________\n",
            "leaky_re_lu_19 (LeakyReLU)   (None, 1024)              0         \n",
            "_________________________________________________________________\n",
            "dense_99 (Dense)             (None, 64)                65600     \n",
            "_________________________________________________________________\n",
            "dense_100 (Dense)            (None, 2)                 130       \n",
            "=================================================================\n",
            "Total params: 17,609,154\n",
            "Trainable params: 17,609,154\n",
            "Non-trainable params: 0\n",
            "_________________________________________________________________\n"
          ],
          "name": "stdout"
        }
      ]
    },
    {
      "cell_type": "code",
      "metadata": {
        "id": "7ZXcbZLG5dep"
      },
      "source": [
        "X_train=get_data(train_folder)"
      ],
      "execution_count": null,
      "outputs": []
    },
    {
      "cell_type": "code",
      "metadata": {
        "id": "pPetQDm17QK4"
      },
      "source": [
        "X_val=get_data(val_folder)"
      ],
      "execution_count": null,
      "outputs": []
    },
    {
      "cell_type": "code",
      "metadata": {
        "id": "3PTJYf3sEfEw"
      },
      "source": [
        "X_train=np.array(X_train)\n",
        "X_train =X_train.reshape(X_train.shape[0],67500).astype('float32')#196608\n",
        "y_train=np.ones(1536)\n",
        "y_train[0:768]=0\n",
        "\n",
        "\n",
        "X_val=np.array(X_val)\n",
        "X_val=X_val.reshape(X_val.shape[0],67500).astype('float32')\n",
        "y_val=np.ones(384)\n",
        "y_val[0:192]=0\n",
        "\n"
      ],
      "execution_count": null,
      "outputs": []
    },
    {
      "cell_type": "code",
      "metadata": {
        "id": "2Zsg8hgtPSw3"
      },
      "source": [
        "#Compile\n",
        "from keras.optimizers import SGD\n",
        "opt=Adam(lr=0.00001)\n",
        "model.compile(optimizer=opt,loss='sparse_categorical_crossentropy', metrics=['accuracy'])"
      ],
      "execution_count": null,
      "outputs": []
    },
    {
      "cell_type": "code",
      "metadata": {
        "colab": {
          "base_uri": "https://localhost:8080/"
        },
        "id": "mZdcwmisPf4a",
        "outputId": "67f40b08-4e4c-4f0b-d872-68753e9fbf77"
      },
      "source": [
        "from keras import callbacks\n",
        "earlystopping = callbacks.EarlyStopping(monitor =\"val_loss\",\n",
        "                                       mode =\"min\", patience = 5,\n",
        "                                      restore_best_weights = True)\n",
        "history=model.fit(X_train, y_train, batch_size=64, epochs=20, validation_data=(X_val, y_val), shuffle=True, verbose=2, callbacks =[earlystopping])"
      ],
      "execution_count": null,
      "outputs": [
        {
          "output_type": "stream",
          "text": [
            "Epoch 1/20\n",
            "24/24 - 3s - loss: 0.6868 - accuracy: 0.5573 - val_loss: 0.6444 - val_accuracy: 0.6328\n",
            "Epoch 2/20\n",
            "24/24 - 3s - loss: 0.6027 - accuracy: 0.6842 - val_loss: 0.6591 - val_accuracy: 0.6484\n",
            "Epoch 3/20\n",
            "24/24 - 3s - loss: 0.5523 - accuracy: 0.7383 - val_loss: 0.6361 - val_accuracy: 0.6406\n",
            "Epoch 4/20\n",
            "24/24 - 3s - loss: 0.4950 - accuracy: 0.8092 - val_loss: 0.6271 - val_accuracy: 0.6406\n",
            "Epoch 5/20\n",
            "24/24 - 3s - loss: 0.4436 - accuracy: 0.8509 - val_loss: 0.6299 - val_accuracy: 0.6406\n",
            "Epoch 6/20\n",
            "24/24 - 3s - loss: 0.4049 - accuracy: 0.8757 - val_loss: 0.6437 - val_accuracy: 0.6432\n",
            "Epoch 7/20\n",
            "24/24 - 3s - loss: 0.3700 - accuracy: 0.9036 - val_loss: 0.6482 - val_accuracy: 0.6406\n",
            "Epoch 8/20\n",
            "24/24 - 3s - loss: 0.3354 - accuracy: 0.9199 - val_loss: 0.6549 - val_accuracy: 0.6432\n",
            "Epoch 9/20\n",
            "24/24 - 3s - loss: 0.2965 - accuracy: 0.9479 - val_loss: 0.6704 - val_accuracy: 0.6224\n"
          ],
          "name": "stdout"
        }
      ]
    },
    {
      "cell_type": "code",
      "metadata": {
        "colab": {
          "base_uri": "https://localhost:8080/"
        },
        "id": "bcnXxsxBweml",
        "outputId": "e817a8db-98df-4b34-ac72-97bcc5d96861"
      },
      "source": [
        "score = model.evaluate(X_val,y_val)\n",
        "print('Test score: ', score[0])\n",
        "print('Test accuracy: ', score[1])"
      ],
      "execution_count": null,
      "outputs": [
        {
          "output_type": "stream",
          "text": [
            "12/12 [==============================] - 0s 24ms/step - loss: 0.6271 - accuracy: 0.6406\n",
            "Test score:  0.6270675659179688\n",
            "Test accuracy:  0.640625\n"
          ],
          "name": "stdout"
        }
      ]
    },
    {
      "cell_type": "code",
      "metadata": {
        "colab": {
          "base_uri": "https://localhost:8080/",
          "height": 295
        },
        "id": "LHonVVYSwzH4",
        "outputId": "6c5e1851-d144-4c63-b20f-504ea025d188"
      },
      "source": [
        "import matplotlib.pyplot as plt\n",
        "\n",
        "loss_train = history.history['loss']\n",
        "loss_val = history.history['val_loss']\n",
        "epochs = range(0,9)\n",
        "plt.plot(epochs, loss_train, 'g', label='Training loss')\n",
        "plt.plot(epochs, loss_val, 'b', label='validation loss')\n",
        "plt.title('Training and Validation loss')\n",
        "plt.xlabel('Epochs')\n",
        "plt.ylabel('Loss')\n",
        "plt.legend()\n",
        "plt.show()"
      ],
      "execution_count": null,
      "outputs": [
        {
          "output_type": "display_data",
          "data": {
            "image/png": "[encoded data removed]",
            "text/plain": [
              "<Figure size 432x288 with 1 Axes>"
            ]
          },
          "metadata": {
            "tags": [],
            "needs_background": "light"
          }
        }
      ]
    },
    {
      "cell_type": "code",
      "metadata": {
        "colab": {
          "base_uri": "https://localhost:8080/",
          "height": 295
        },
        "id": "_qiLiyHgy0O2",
        "outputId": "ab2c9742-3afa-4143-d2cf-806e422ace27"
      },
      "source": [
        "loss_train = history.history['accuracy']\n",
        "loss_val = history.history['val_accuracy']\n",
        "epochs = range(0,9)\n",
        "plt.plot(epochs, loss_train, 'g', label='Training accuracy')\n",
        "plt.plot(epochs, loss_val, 'b', label='validation accuracy')\n",
        "plt.title('Training and Validation accuracy')\n",
        "plt.xlabel('Epochs')\n",
        "plt.ylabel('Accuracy')\n",
        "plt.legend()\n",
        "plt.show()"
      ],
      "execution_count": null,
      "outputs": [
        {
          "output_type": "display_data",
          "data": {
            "image/png": "[encoded data removed]",
            "text/plain": [
              "<Figure size 432x288 with 1 Axes>"
            ]
          },
          "metadata": {
            "tags": [],
            "needs_background": "light"
          }
        }
      ]
    },
    {
      "cell_type": "code",
      "metadata": {
        "id": "a8ubNvBlwlKT"
      },
      "source": [
        "#Confusion Matrix\n",
        "%matplotlib inline\n",
        "from sklearn.metrics import confusion_matrix\n",
        "\n",
        "import itertools\n",
        "import matplotlib.pyplot as plt\n",
        "\n",
        "predictions=model.predict(x=X_val, batch_size=128, verbose=0)\n",
        "rounded_predictions=np.argmax(predictions, axis=-1)\n",
        "\n",
        "cm=confusion_matrix(y_true=y_val, y_pred=rounded_predictions)\n",
        "\n",
        "def plot_colfusion_matrix(cm,classes,\n",
        "                          normalize=False,\n",
        "                          title='Confusion matrix',\n",
        "                          cmap=plt.cm.Blues):\n",
        "    plt.imshow(cm, interpolation='nearest', cmap=cmap)\n",
        "    plt.title(title)\n",
        "    plt.colorbar()\n",
        "    tick_marks = np.arange(len(classes))\n",
        "    plt.xticks(tick_marks, classes, rotation=45)\n",
        "    plt.yticks(tick_marks, classes)\n",
        "\n",
        "    if normalize:\n",
        "      cm=cm.astype('float') / cm.sum(axis=1)[:, np.newaxis]\n",
        "      print(\"Normalized confusion matrix\")\n",
        "    else:\n",
        "      print(\"Confusion matrix, without normalization\")\n",
        "\n",
        "    print(cm)\n",
        "    thresh= cm.max() / 2.\n",
        "    for i,j in itertools.product(range(cm.shape[0]),range(cm.shape[0])):\n",
        "      plt.text(j, i, cm[i, j],\n",
        "               horizontalalignment=\"center\",\n",
        "               color=\"red\" if cm[i, j] > thresh else \"black\")\n",
        "    plt.tight_layout()\n",
        "    plt.ylabel('True label')\n",
        "    plt.xlabel('Predicted label')"
      ],
      "execution_count": null,
      "outputs": []
    },
    {
      "cell_type": "code",
      "metadata": {
        "colab": {
          "base_uri": "https://localhost:8080/",
          "height": 362
        },
        "id": "ntIV1pT6wsaL",
        "outputId": "9ae7a143-c2bc-4c57-aa4c-8d28f812f55d"
      },
      "source": [
        "cm_plot_labels=['fake', 'real']\n",
        "plot_colfusion_matrix(cm=cm, classes=cm_plot_labels, title='Confusion Matrix')"
      ],
      "execution_count": null,
      "outputs": [
        {
          "output_type": "stream",
          "text": [
            "Confusion matrix, without normalization\n",
            "[[119  73]\n",
            " [ 65 127]]\n"
          ],
          "name": "stdout"
        },
        {
          "output_type": "display_data",
          "data": {
            "image/png": "[encoded data removed]",
            "text/plain": [
              "<Figure size 432x288 with 2 Axes>"
            ]
          },
          "metadata": {
            "tags": [],
            "needs_background": "light"
          }
        }
      ]
    },
    {
      "cell_type": "code",
      "metadata": {
        "colab": {
          "base_uri": "https://localhost:8080/"
        },
        "id": "et4ZWHWUwxKs",
        "outputId": "5e3bbc51-40a1-4b12-d946-7dab1fd737e2"
      },
      "source": [
        "from sklearn import metrics\n",
        "precisions, recall, f1_score, samples_per_class = metrics.precision_recall_fscore_support(y_val, rounded_predictions,labels = [0,1])\n",
        "print('Precision :',precisions,'\\nRecall :',recall,'\\nF1_Score :',f1_score,'\\nSamples per class :',samples_per_class)"
      ],
      "execution_count": null,
      "outputs": [
        {
          "output_type": "stream",
          "text": [
            "Precision : [0.64673913 0.635     ] \n",
            "Recall : [0.61979167 0.66145833] \n",
            "F1_Score : [0.63297872 0.64795918] \n",
            "Samples per class : [192 192]\n"
          ],
          "name": "stdout"
        }
      ]
    }
  ]
}