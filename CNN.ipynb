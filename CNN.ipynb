{
  "nbformat": 4,
  "nbformat_minor": 0,
  "metadata": {
    "accelerator": "GPU",
    "colab": {
      "provenance": [],
      "authorship_tag": "ABX9TyObqDhlH2SVnqeovOYzWGPw",
      "include_colab_link": true
    },
    "kernelspec": {
      "display_name": "Python 3",
      "name": "python3"
    }
  },
  "cells": [
    {
      "cell_type": "markdown",
      "metadata": {
        "id": "view-in-github",
        "colab_type": "text"
      },
      "source": [
        "<a href=\"https://colab.research.google.com/github/georevge/Real_Fake_face/blob/main/CNN.ipynb\" target=\"_parent\"><img src=\"https://colab.research.google.com/assets/colab-badge.svg\" alt=\"Open In Colab\"/></a>"
      ]
    },
    {
      "cell_type": "markdown",
      "metadata": {
        "id": "pwcIAa-gldXH"
      },
      "source": [
        "CNN"
      ]
    },
    {
      "cell_type": "code",
      "metadata": {
        "colab": {
          "base_uri": "https://localhost:8080/"
        },
        "id": "jN-PgGypu1m2",
        "outputId": "c65ac599-d67e-45ad-8911-5156f43954d2"
      },
      "source": [
        "from google.colab import drive\n",
        "drive.mount('/content/drive')"
      ],
      "execution_count": null,
      "outputs": [
        {
          "output_type": "stream",
          "text": [
            "Mounted at /content/drive\n"
          ],
          "name": "stdout"
        }
      ]
    },
    {
      "cell_type": "code",
      "metadata": {
        "id": "sgthoJn0zR9m"
      },
      "source": [
        "import os\n",
        "base_dir = '/content/drive/MyDrive/real_and_fake_face/'\n",
        "train_dir = os.path.join(base_dir, 'training')\n",
        "val_dir = os.path.join(base_dir, 'validation')"
      ],
      "execution_count": null,
      "outputs": []
    },
    {
      "cell_type": "code",
      "metadata": {
        "id": "7H-x9tICu60c"
      },
      "source": [
        "import numpy as np\n",
        "from keras.models import Sequential\n",
        "from keras.layers import Dense, Activation ,Dropout\n",
        "from keras.layers import Conv2D, MaxPooling2D, ZeroPadding2D, GlobalAveragePooling2D, Flatten\n",
        "from keras.optimizers import Adam, SGD, RMSprop\n",
        "from keras.metrics import categorical_crossentropy\n",
        "\n",
        "\n",
        "from sklearn.preprocessing import MinMaxScaler\n",
        "from keras.layers import BatchNormalization\n",
        "from keras.preprocessing.image import ImageDataGenerator\n",
        "from keras import regularizers\n",
        "\n",
        "\n",
        "import cv2"
      ],
      "execution_count": null,
      "outputs": []
    },
    {
      "cell_type": "code",
      "metadata": {
        "id": "VYYm3DgSvDpx"
      },
      "source": [
        "val_folder=[val_dir+'/fake',val_dir+'/real']\n",
        "train_folder=[train_dir+'/fake',train_dir+'/real']\n",
        "\n",
        "def get_data(folders):\n",
        "            images = []\n",
        "            for folder in folders:\n",
        "              for filename in os.listdir(folder):\n",
        "                  img = cv2.imread(os.path.join(folder,filename))\n",
        "                  res_img = cv2.resize(img, dsize=(224, 224), interpolation=cv2.INTER_CUBIC)#224\n",
        "                  norm = cv2.normalize(res_img, None, alpha=-1, beta=1, norm_type=cv2.NORM_MINMAX, dtype=cv2.CV_32F)#res_img\n",
        "                  if img is not None:\n",
        "                    images.append(norm)#norm\n",
        "            return images"
      ],
      "execution_count": null,
      "outputs": []
    },
    {
      "cell_type": "code",
      "metadata": {
        "colab": {
          "base_uri": "https://localhost:8080/"
        },
        "id": "Q9XX3aV1vHRb",
        "outputId": "32aeb54c-1316-4299-f4d4-e752cb5f93cc"
      },
      "source": [
        "from keras.layers.advanced_activations import LeakyReLU\n",
        "from keras.regularizers import l2\n",
        "model = Sequential()\n",
        "\n",
        "# 1st hidden layer\n",
        "model.add(Conv2D(32,(3,3),input_shape=(224,224,3),activation='relu'))\n",
        "model.add(BatchNormalization())\n",
        "model.add(MaxPooling2D(pool_size=(2,2)))\n",
        "#model.add(Dropout(0.2))\n",
        "\n",
        "# 2nd hidden layer\n",
        "model.add(Conv2D(64,(3,3)))#,kernel_regularizer=regularizers.l2(0.0001)))\n",
        "model.add(Activation('relu'))\n",
        "model.add(BatchNormalization())\n",
        "model.add(MaxPooling2D(pool_size=(2,2)))\n",
        "#model.add(Dropout(0.2))\n",
        "\n",
        "model.add(Conv2D(128,(3,3)))#,kernel_regularizer=regularizers.l2(0.0001)))\n",
        "model.add(Activation('relu'))\n",
        "model.add(BatchNormalization())\n",
        "model.add(MaxPooling2D(pool_size=(2,2)))\n",
        "#model.add(Dropout(0.2))\n",
        "\n",
        "model.add(Flatten())\n",
        "\n",
        "# 1st fully connected layer\n",
        "model.add(Dense(256))\n",
        "model.add(Activation('relu'))\n",
        "model.add(BatchNormalization())\n",
        "\n",
        "# 2nd fully connected layer\n",
        "model.add(Dense(2))\n",
        "model.add(Activation('softmax'))\n",
        "\n",
        "model.summary()"
      ],
      "execution_count": null,
      "outputs": [
        {
          "output_type": "stream",
          "text": [
            "Model: \"sequential_27\"\n",
            "_________________________________________________________________\n",
            "Layer (type)                 Output Shape              Param #   \n",
            "=================================================================\n",
            "conv2d_81 (Conv2D)           (None, 222, 222, 32)      896       \n",
            "_________________________________________________________________\n",
            "batch_normalization_89 (Batc (None, 222, 222, 32)      128       \n",
            "_________________________________________________________________\n",
            "max_pooling2d_63 (MaxPooling (None, 111, 111, 32)      0         \n",
            "_________________________________________________________________\n",
            "conv2d_82 (Conv2D)           (None, 109, 109, 64)      18496     \n",
            "_________________________________________________________________\n",
            "activation_96 (Activation)   (None, 109, 109, 64)      0         \n",
            "_________________________________________________________________\n",
            "batch_normalization_90 (Batc (None, 109, 109, 64)      256       \n",
            "_________________________________________________________________\n",
            "max_pooling2d_64 (MaxPooling (None, 54, 54, 64)        0         \n",
            "_________________________________________________________________\n",
            "conv2d_83 (Conv2D)           (None, 52, 52, 128)       73856     \n",
            "_________________________________________________________________\n",
            "activation_97 (Activation)   (None, 52, 52, 128)       0         \n",
            "_________________________________________________________________\n",
            "batch_normalization_91 (Batc (None, 52, 52, 128)       512       \n",
            "_________________________________________________________________\n",
            "max_pooling2d_65 (MaxPooling (None, 26, 26, 128)       0         \n",
            "_________________________________________________________________\n",
            "flatten_23 (Flatten)         (None, 86528)             0         \n",
            "_________________________________________________________________\n",
            "dense_47 (Dense)             (None, 256)               22151424  \n",
            "_________________________________________________________________\n",
            "activation_98 (Activation)   (None, 256)               0         \n",
            "_________________________________________________________________\n",
            "batch_normalization_92 (Batc (None, 256)               1024      \n",
            "_________________________________________________________________\n",
            "dense_48 (Dense)             (None, 2)                 514       \n",
            "_________________________________________________________________\n",
            "activation_99 (Activation)   (None, 2)                 0         \n",
            "=================================================================\n",
            "Total params: 22,247,106\n",
            "Trainable params: 22,246,146\n",
            "Non-trainable params: 960\n",
            "_________________________________________________________________\n"
          ],
          "name": "stdout"
        }
      ]
    },
    {
      "cell_type": "code",
      "metadata": {
        "id": "cCeNdtUrx_U2"
      },
      "source": [
        "X_train=get_data(train_folder)"
      ],
      "execution_count": null,
      "outputs": []
    },
    {
      "cell_type": "code",
      "metadata": {
        "id": "ETPIPKLxyFWR"
      },
      "source": [
        "X_val=get_data(val_folder)"
      ],
      "execution_count": null,
      "outputs": []
    },
    {
      "cell_type": "code",
      "metadata": {
        "id": "zQjaJQrJyGO4"
      },
      "source": [
        "X_train=np.array(X_train)\n",
        "X_val=np.array(X_val)\n",
        "X_train = X_train.reshape(X_train.shape[0],X_train.shape[1],X_train.shape[2],3)\n",
        "X_val = X_val.reshape(X_val.shape[0],X_val.shape[1],X_val.shape[2],3)\n",
        "\n",
        "X_train = X_train.astype('float32')\n",
        "X_val = X_val.astype('float32')\n",
        "\n",
        "y_train=np.ones(1536)\n",
        "y_train[0:768]=0\n",
        "\n",
        "y_val=np.ones(384)\n",
        "y_val[0:192]=0"
      ],
      "execution_count": null,
      "outputs": []
    },
    {
      "cell_type": "code",
      "metadata": {
        "id": "TytuFQf5yJTg"
      },
      "source": [
        "#Compile\n",
        "opt = Adam(lr=0.000001)\n",
        "model.compile(optimizer=opt,loss='sparse_categorical_crossentropy', metrics=['accuracy'])#"
      ],
      "execution_count": null,
      "outputs": []
    },
    {
      "cell_type": "code",
      "metadata": {
        "colab": {
          "base_uri": "https://localhost:8080/"
        },
        "id": "_b7jRKbTyMCQ",
        "outputId": "55b59b58-21e4-4308-81ee-2e64b84afd72"
      },
      "source": [
        "from keras import callbacks\n",
        "earlystopping = callbacks.EarlyStopping(monitor =\"val_loss\",\n",
        "                                        mode =\"min\", patience = 5,\n",
        "                                        restore_best_weights = True)\n",
        "history=model.fit(X_train, y_train, batch_size=64, epochs=10, validation_data=(X_val, y_val), shuffle=True, verbose=2, callbacks =[earlystopping])"
      ],
      "execution_count": null,
      "outputs": [
        {
          "output_type": "stream",
          "text": [
            "Epoch 1/10\n",
            "24/24 - 5s - loss: 0.2500 - accuracy: 0.9479 - val_loss: 0.7312 - val_accuracy: 0.5807\n",
            "Epoch 2/10\n",
            "24/24 - 4s - loss: 0.2009 - accuracy: 0.9753 - val_loss: 0.7421 - val_accuracy: 0.5781\n",
            "Epoch 3/10\n",
            "24/24 - 4s - loss: 0.1718 - accuracy: 0.9818 - val_loss: 0.7581 - val_accuracy: 0.5833\n",
            "Epoch 4/10\n",
            "24/24 - 4s - loss: 0.1518 - accuracy: 0.9889 - val_loss: 0.7723 - val_accuracy: 0.5755\n",
            "Epoch 5/10\n",
            "24/24 - 4s - loss: 0.1292 - accuracy: 0.9954 - val_loss: 0.7768 - val_accuracy: 0.5938\n",
            "Epoch 6/10\n",
            "24/24 - 4s - loss: 0.1141 - accuracy: 0.9974 - val_loss: 0.7915 - val_accuracy: 0.5807\n"
          ],
          "name": "stdout"
        }
      ]
    },
    {
      "cell_type": "code",
      "metadata": {
        "colab": {
          "base_uri": "https://localhost:8080/"
        },
        "id": "_h2Mo-0YyQ7L",
        "outputId": "570b91b5-b693-47e7-d41f-0fd8f63fc118"
      },
      "source": [
        "score = model.evaluate(X_val,y_val)\n",
        "print('Test score: ', score[0])\n",
        "print('Test accuracy: ', score[1])"
      ],
      "execution_count": null,
      "outputs": [
        {
          "output_type": "stream",
          "text": [
            "12/12 [==============================] - 1s 33ms/step - loss: 0.7312 - accuracy: 0.5807\n",
            "Test score:  0.7312336564064026\n",
            "Test accuracy:  0.5807291865348816\n"
          ],
          "name": "stdout"
        }
      ]
    },
    {
      "cell_type": "code",
      "metadata": {
        "colab": {
          "base_uri": "https://localhost:8080/",
          "height": 295
        },
        "id": "G5HPcgMzySHl",
        "outputId": "0e682556-bdc0-4099-de2f-f825562f90b9"
      },
      "source": [
        "import matplotlib.pyplot as plt\n",
        "\n",
        "loss_train = history.history['loss']\n",
        "loss_val = history.history['val_loss']\n",
        "epochs = range(0,70)\n",
        "plt.plot(epochs, loss_train, 'g', label='Training loss')\n",
        "plt.plot(epochs, loss_val, 'b', label='validation loss')\n",
        "plt.title('Training and Validation loss')\n",
        "plt.xlabel('Epochs')\n",
        "plt.ylabel('Loss')\n",
        "plt.legend()\n",
        "plt.show()"
      ],
      "execution_count": null,
      "outputs": [
        {
          "output_type": "display_data",
          "data": {
            "image/png": "[encoded data removed]",
            "text/plain": [
              "<Figure size 432x288 with 1 Axes>"
            ]
          },
          "metadata": {
            "tags": [],
            "needs_background": "light"
          }
        }
      ]
    },
    {
      "cell_type": "code",
      "metadata": {
        "colab": {
          "base_uri": "https://localhost:8080/",
          "height": 295
        },
        "id": "57nmI1-eyXBt",
        "outputId": "00c4a823-f28a-4300-9d91-750bd667b368"
      },
      "source": [
        "loss_train = history.history['accuracy']\n",
        "loss_val = history.history['val_accuracy']\n",
        "epochs = range(0,70)\n",
        "plt.plot(epochs, loss_train, 'g', label='Training accuracy')\n",
        "plt.plot(epochs, loss_val, 'b', label='validation accuracy')\n",
        "plt.title('Training and Validation accuracy')\n",
        "plt.xlabel('Epochs')\n",
        "plt.ylabel('Accuracy')\n",
        "plt.legend()\n",
        "plt.show()"
      ],
      "execution_count": null,
      "outputs": [
        {
          "output_type": "display_data",
          "data": {
            "image/png": "[encoded data removed]",
            "text/plain": [
              "<Figure size 432x288 with 1 Axes>"
            ]
          },
          "metadata": {
            "tags": [],
            "needs_background": "light"
          }
        }
      ]
    },
    {
      "cell_type": "code",
      "metadata": {
        "id": "G-0_TDt4ycOy"
      },
      "source": [
        "#Confusion Matrix\n",
        "%matplotlib inline\n",
        "from sklearn.metrics import confusion_matrix\n",
        "\n",
        "import itertools\n",
        "import matplotlib.pyplot as plt\n",
        "\n",
        "predictions=model.predict(x=X_val, batch_size=128, verbose=0)\n",
        "rounded_predictions=np.argmax(predictions, axis=-1)\n",
        "\n",
        "cm=confusion_matrix(y_true=y_val, y_pred=rounded_predictions)\n",
        "\n",
        "def plot_colfusion_matrix(cm,classes,\n",
        "                          normalize=False,\n",
        "                          title='Confusion matrix',\n",
        "                          cmap=plt.cm.Blues):\n",
        "    plt.imshow(cm, interpolation='nearest', cmap=cmap)\n",
        "    plt.title(title)\n",
        "    plt.colorbar()\n",
        "    tick_marks = np.arange(len(classes))\n",
        "    plt.xticks(tick_marks, classes, rotation=45)\n",
        "    plt.yticks(tick_marks, classes)\n",
        "\n",
        "    if normalize:\n",
        "      cm=cm.astype('float') / cm.sum(axis=1)[:, np.newaxis]\n",
        "      print(\"Normalized confusion matrix\")\n",
        "    else:\n",
        "      print(\"Confusion matrix, without normalization\")\n",
        "\n",
        "    print(cm)\n",
        "    thresh= cm.max() / 2.\n",
        "    for i,j in itertools.product(range(cm.shape[0]),range(cm.shape[0])):\n",
        "      plt.text(j, i, cm[i, j],\n",
        "               horizontalalignment=\"center\",\n",
        "               color=\"red\" if cm[i, j] > thresh else \"black\")\n",
        "    plt.tight_layout()\n",
        "    plt.ylabel('True label')\n",
        "    plt.xlabel('Predicted label')"
      ],
      "execution_count": null,
      "outputs": []
    },
    {
      "cell_type": "code",
      "metadata": {
        "colab": {
          "base_uri": "https://localhost:8080/",
          "height": 362
        },
        "id": "Ipl5kWzByfoQ",
        "outputId": "02d27653-e285-44f2-aee6-039ff6a61dea"
      },
      "source": [
        "cm_plot_labels=['fake', 'real']\n",
        "plot_colfusion_matrix(cm=cm, classes=cm_plot_labels, title='Confusion Matrix')"
      ],
      "execution_count": null,
      "outputs": [
        {
          "output_type": "stream",
          "text": [
            "Confusion matrix, without normalization\n",
            "[[129  63]\n",
            " [ 52 140]]\n"
          ],
          "name": "stdout"
        },
        {
          "output_type": "display_data",
          "data": {
            "image/png": "[encoded data removed]",
            "text/plain": [
              "<Figure size 432x288 with 2 Axes>"
            ]
          },
          "metadata": {
            "tags": [],
            "needs_background": "light"
          }
        }
      ]
    },
    {
      "cell_type": "code",
      "metadata": {
        "colab": {
          "base_uri": "https://localhost:8080/"
        },
        "id": "OuaqjO-eyibp",
        "outputId": "28fe4b46-d37e-4775-cce8-4bb9117c08a2"
      },
      "source": [
        "from sklearn import metrics\n",
        "precisions, recall, f1_score, samples_per_class = metrics.precision_recall_fscore_support(y_val, rounded_predictions,labels = [0,1])\n",
        "print('Precision :',precisions,'\\nRecall :',recall,'\\nF1_Score :',f1_score,'\\nSamples per class :',samples_per_class)"
      ],
      "execution_count": null,
      "outputs": [
        {
          "output_type": "stream",
          "text": [
            "Precision : [0.70588235 0.69543147] \n",
            "Recall : [0.6875     0.71354167] \n",
            "F1_Score : [0.69656992 0.70437018] \n",
            "Samples per class : [192 192]\n"
          ],
          "name": "stdout"
        }
      ]
    }
  ]
}